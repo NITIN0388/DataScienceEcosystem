{
 "cells": [
  {
   "cell_type": "code",
   "execution_count": null,
   "id": "00b47b84",
   "metadata": {},
   "outputs": [],
   "source": []
  },
  {
   "cell_type": "markdown",
   "id": "707890ef",
   "metadata": {
    "tags": []
   },
   "source": [
    "# Data Science Tools and Ecosystem"
   ]
  },
  {
   "cell_type": "markdown",
   "id": "4fbb746d",
   "metadata": {},
   "source": [
    "In this notebook, Data Science Tools and Ecosystem are summarized."
   ]
  },
  {
   "cell_type": "markdown",
   "id": "74612fe6",
   "metadata": {},
   "source": [
    "**Data Ecosystem refers to the interconnected network of tools, plateforms and processes that work together to facilitate data processing, storage, and analytics. it consists of environnment, languages and tools. some of them are listed below** \n",
    " - Python\n",
    " - RStudio\n",
    " - Jupyter Notebook\n",
    " - Pytorch\n",
    " - TensorFlow\n",
    " "
   ]
  },
  {
   "cell_type": "markdown",
   "id": "7d4b2c03",
   "metadata": {},
   "source": [
    "Some of the popular languages that Data Scientists use are: \n",
    "1. Python,\n",
    "2. Scala, \n",
    "3. R & R Studio"
   ]
  },
  {
   "cell_type": "markdown",
   "id": "49648aa1",
   "metadata": {},
   "source": [
    "Some of the commonly used libraries used by Data Scientists include:\n",
    "1. SciPy\n",
    "2. TensorFlow \n",
    "3. Pytorch"
   ]
  },
  {
   "cell_type": "markdown",
   "id": "598ead29",
   "metadata": {},
   "source": [
    " **Data Science Tools**\n"
   ]
  },
  {
   "cell_type": "markdown",
   "id": "4e42ce56",
   "metadata": {},
   "source": [
    "Jypyter Notebook      \n",
    "RStudio             \n",
    "Zeppelin Notebooks   \n",
    "Spyder"
   ]
  },
  {
   "cell_type": "markdown",
   "id": "977c6f33",
   "metadata": {},
   "source": [
    "### Below are a few examples of evaluating arithmetic expressions in Python"
   ]
  },
  {
   "cell_type": "code",
   "execution_count": 7,
   "id": "a0d09755",
   "metadata": {},
   "outputs": [
    {
     "data": {
      "text/plain": [
       "17"
      ]
     },
     "execution_count": 7,
     "metadata": {},
     "output_type": "execute_result"
    }
   ],
   "source": [
    "# This a simple arithmetic expression to mutiply then add integers\n",
    "(3*4)+5"
   ]
  },
  {
   "cell_type": "code",
   "execution_count": 8,
   "id": "0ad9b04b",
   "metadata": {},
   "outputs": [
    {
     "data": {
      "text/plain": [
       "3.3333333333333335"
      ]
     },
     "execution_count": 8,
     "metadata": {},
     "output_type": "execute_result"
    }
   ],
   "source": [
    "# This will convert 200 minutes to hours by diving by 60\n",
    "200/60"
   ]
  },
  {
   "cell_type": "markdown",
   "id": "8cbb52da",
   "metadata": {},
   "source": [
    "**Objectives:**"
   ]
  },
  {
   "cell_type": "markdown",
   "id": "df5929a9",
   "metadata": {},
   "source": [
    " - Add comments to code cells\n",
    " - Create markdown cells\n",
    " - Add ordered and unordered lists to markdown cells"
   ]
  },
  {
   "cell_type": "markdown",
   "id": "0392859e",
   "metadata": {},
   "source": [
    "**Author(s)**\n",
    "\n",
    "Nitin Sharma"
   ]
  }
 ],
 "metadata": {
  "kernelspec": {
   "display_name": "Python 3 (ipykernel)",
   "language": "python",
   "name": "python3"
  },
  "language_info": {
   "codemirror_mode": {
    "name": "ipython",
    "version": 3
   },
   "file_extension": ".py",
   "mimetype": "text/x-python",
   "name": "python",
   "nbconvert_exporter": "python",
   "pygments_lexer": "ipython3",
   "version": "3.10.9"
  },
  "toc-autonumbering": false,
  "toc-showcode": false,
  "toc-showmarkdowntxt": true
 },
 "nbformat": 4,
 "nbformat_minor": 5
}
